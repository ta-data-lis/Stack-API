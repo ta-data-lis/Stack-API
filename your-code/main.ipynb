{
 "cells": [
  {
   "cell_type": "markdown",
   "metadata": {},
   "source": [
    "# StackAPI\n",
    "\n",
    "#### Import the necessary libraries here:"
   ]
  },
  {
   "cell_type": "code",
   "execution_count": 11,
   "metadata": {},
   "outputs": [],
   "source": [
    "# your code here\n",
    "import datetime\n",
    "import stackapi"
   ]
  },
  {
   "cell_type": "markdown",
   "metadata": {},
   "source": [
    "#### Question 1: Find the questions and answers of last month."
   ]
  },
  {
   "cell_type": "code",
   "execution_count": 12,
   "metadata": {},
   "outputs": [],
   "source": [
    "site = stackapi.StackAPI('stackoverflow')\n",
    "\n",
    "# set the time period to last month\n",
    "now = datetime.datetime.now()\n",
    "last_month = now - datetime.timedelta(days=30)\n",
    "\n",
    "# get the questions from last month\n",
    "questions = site.fetch('questions', fromdate=int(last_month.timestamp()), todate=int(now.timestamp()))\n",
    "\n",
    "# get the answers from last month\n",
    "answers = site.fetch('answers', fromdate=int(last_month.timestamp()), todate=int(now.timestamp()))"
   ]
  },
  {
   "cell_type": "markdown",
   "metadata": {},
   "source": [
    "#### Question 2: Find the most voted question today with at least a score of 5 and tagged with 'python'. "
   ]
  },
  {
   "cell_type": "code",
   "execution_count": 13,
   "metadata": {},
   "outputs": [],
   "source": [
    "now = datetime.datetime.now()\n",
    "today = datetime.datetime(now.year, now.month, now.day)\n",
    "\n",
    "questions = site.fetch('questions', fromdate=int(today.timestamp()), todate=int(now.timestamp()), min=5, tagged='python', sort='votes', order='desc', pagesize=1)\n"
   ]
  },
  {
   "cell_type": "markdown",
   "metadata": {},
   "source": [
    "#### Question 3: Find the answers with id 6784 and 6473."
   ]
  },
  {
   "cell_type": "code",
   "execution_count": 14,
   "metadata": {},
   "outputs": [],
   "source": [
    "answers = site.fetch('answers/{ids}', ids=[6784, 6473])"
   ]
  }
 ],
 "metadata": {
  "kernelspec": {
   "display_name": "Python 3",
   "language": "python",
   "name": "python3"
  },
  "language_info": {
   "codemirror_mode": {
    "name": "ipython",
    "version": 3
   },
   "file_extension": ".py",
   "mimetype": "text/x-python",
   "name": "python",
   "nbconvert_exporter": "python",
   "pygments_lexer": "ipython3",
   "version": "3.10.7"
  }
 },
 "nbformat": 4,
 "nbformat_minor": 2
}
