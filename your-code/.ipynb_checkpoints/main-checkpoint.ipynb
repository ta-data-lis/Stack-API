{
 "cells": [
  {
   "cell_type": "markdown",
   "metadata": {},
   "source": [
    "# StackAPI\n",
    "\n",
    "#### Import the necessary libraries here:"
   ]
  },
  {
   "cell_type": "code",
   "execution_count": 19,
   "metadata": {},
   "outputs": [
    {
     "data": {
      "text/plain": [
       "200"
      ]
     },
     "execution_count": 19,
     "metadata": {},
     "output_type": "execute_result"
    }
   ],
   "source": [
    "# your code here\n",
    "import requests\n",
    "from bs4 import BeautifulSoup\n",
    "url = \"https://stackapi.readthedocs.io/en/latest/\"\n",
    "response = requests.get(url)\n",
    "response.status_code"
   ]
  },
  {
   "cell_type": "markdown",
   "metadata": {},
   "source": [
    "#### Question 1: Find the questions and answers of last month."
   ]
  },
  {
   "cell_type": "code",
   "execution_count": 31,
   "metadata": {},
   "outputs": [
    {
     "name": "stdout",
     "output_type": "stream",
     "text": [
      "{'backoff': 10, 'has_more': False, 'page': 1, 'quota_max': 300, 'quota_remaining': 230, 'total': 0, 'items': []}\n",
      "{'backoff': 0, 'has_more': False, 'page': 1, 'quota_max': 300, 'quota_remaining': 228, 'total': 0, 'items': []}\n"
     ]
    }
   ],
   "source": [
    "# your code here\n",
    "from stackapi import StackAPI\n",
    "SITE = StackAPI('stackoverflow')\n",
    "\n",
    "questions = SITE.fetch('questions', fromdate=(2023,2,1), todate = (2023,2,26))\n",
    "print(questions)\n",
    "answers = SITE.fetch('answers', fromdate = (2023,2,1), todate = (2023,2,26))\n",
    "print(answers)"
   ]
  },
  {
   "cell_type": "markdown",
   "metadata": {},
   "source": [
    "#### Question 2: Find the most voted question today with at least a score of 5 and tagged with 'python'. "
   ]
  },
  {
   "cell_type": "code",
   "execution_count": 27,
   "metadata": {},
   "outputs": [
    {
     "data": {
      "text/plain": [
       "{'backoff': 0,\n",
       " 'has_more': False,\n",
       " 'page': 1,\n",
       " 'quota_max': 300,\n",
       " 'quota_remaining': 244,\n",
       " 'total': 0,\n",
       " 'items': []}"
      ]
     },
     "execution_count": 27,
     "metadata": {},
     "output_type": "execute_result"
    }
   ],
   "source": [
    "# your code here\n",
    "topscore = SITE.fetch('questions', fromdate = (2023,2,26), todate = (2023,2,26), min=5,tagged='python', sort='votes')\n",
    "topscore"
   ]
  },
  {
   "cell_type": "markdown",
   "metadata": {},
   "source": [
    "#### Question 3: Find the answers with id 6784 and 6473."
   ]
  },
  {
   "cell_type": "code",
   "execution_count": 32,
   "metadata": {},
   "outputs": [
    {
     "data": {
      "text/plain": [
       "{'backoff': 0,\n",
       " 'has_more': False,\n",
       " 'page': 1,\n",
       " 'quota_max': 300,\n",
       " 'quota_remaining': 227,\n",
       " 'total': 0,\n",
       " 'items': [{'badge_type': 'tag_based',\n",
       "   'award_count': 1,\n",
       "   'rank': 'silver',\n",
       "   'badge_id': 6784,\n",
       "   'link': 'https://stackoverflow.com/badges/6784/asterisk',\n",
       "   'name': 'asterisk'},\n",
       "  {'badge_type': 'tag_based',\n",
       "   'award_count': 2,\n",
       "   'rank': 'gold',\n",
       "   'badge_id': 6473,\n",
       "   'link': 'https://stackoverflow.com/badges/6473/sql-server-2012',\n",
       "   'name': 'sql-server-2012'}]}"
      ]
     },
     "execution_count": 32,
     "metadata": {},
     "output_type": "execute_result"
    }
   ],
   "source": [
    "# your code here\n",
    "badges = SITE.fetch('badges', ids=[6784, 6473])\n",
    "badges"
   ]
  }
 ],
 "metadata": {
  "kernelspec": {
   "display_name": "Python 3 (ipykernel)",
   "language": "python",
   "name": "python3"
  },
  "language_info": {
   "codemirror_mode": {
    "name": "ipython",
    "version": 3
   },
   "file_extension": ".py",
   "mimetype": "text/x-python",
   "name": "python",
   "nbconvert_exporter": "python",
   "pygments_lexer": "ipython3",
   "version": "3.9.13"
  }
 },
 "nbformat": 4,
 "nbformat_minor": 2
}
